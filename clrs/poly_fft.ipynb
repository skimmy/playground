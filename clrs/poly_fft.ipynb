{
 "cells": [
  {
   "cell_type": "markdown",
   "metadata": {},
   "source": [
    "# [CLRS] - Polynomials and FFT\n",
    "\n",
    "This notebook contains ideas and insights regarding the chapter 30 of CLRS book *Polynomials and FFT*. We use part of the convetion of ``numpy`` library where polynomials are expressed in terms of their *coefficients* as a vector $\\mathbf{a} = (a_{n-1},a_{n-2},\\ldots,a_0)$ where $n-1$ is the *degree* of the polynomial. Notice that the coefficient are stored in the reverse order (*i.e.*, the first element of the array is the higher degree coefficient).\n",
    "\\begin{align*}\n",
    "A(x) = a_0 + a_1 x + a_2 x^2 + \\ldots + a_{n-1} x^{n-1} = \\mathbf{a}^T (x^{n-1},x^{n-2},\\ldots,x, 1)\n",
    "\\end{align*}\n",
    "The last equation shows the relation between polynomials and linear models in the sense that it makes explicit the *linear* nature of polynomial in the space of monomials."
   ]
  },
  {
   "cell_type": "code",
   "execution_count": 1,
   "metadata": {},
   "outputs": [],
   "source": [
    "import numpy as np"
   ]
  },
  {
   "cell_type": "code",
   "execution_count": 3,
   "metadata": {},
   "outputs": [],
   "source": [
    "p = np.poly([-1,-1/2,2,3/4])"
   ]
  },
  {
   "cell_type": "markdown",
   "metadata": {},
   "source": [
    "## Polynomial evaluation: naive algorithm and Horner's rule\n",
    "Let's start with the most basic operation we can think on a polynomial $A(x)$: its evaluation in $x=x_0$\n",
    "\\begin{align*}\n",
    "A(x_0) = a_0 + a_1 x_0 + \\ldots + a_{n-1} x^{n-1}\n",
    "\\end{align*}\n",
    "A trivial algorithm is the following"
   ]
  },
  {
   "cell_type": "code",
   "execution_count": 11,
   "metadata": {},
   "outputs": [],
   "source": [
    "def naive_eval(p, x0):\n",
    "    n = len(p) - 1\n",
    "    y = p[n]\n",
    "    for i in range(1,n+1):\n",
    "        y += p[n-i]*np.power(x0,i) # power -> i-1 multiplications\n",
    "    return y"
   ]
  },
  {
   "cell_type": "markdown",
   "metadata": {},
   "source": [
    "Above (naive) algorithm requires $\\mathcal{O}(n^2)$ operations.\n",
    "\n",
    "### Horner's rule\n",
    "It seems to me that the decision of using a reversed order for coefficients, is useful in terms of the evaluation of the polynomial using the Horner's rule."
   ]
  },
  {
   "cell_type": "code",
   "execution_count": null,
   "metadata": {},
   "outputs": [],
   "source": []
  }
 ],
 "metadata": {
  "kernelspec": {
   "display_name": "Python 3",
   "language": "python",
   "name": "python3"
  },
  "language_info": {
   "codemirror_mode": {
    "name": "ipython",
    "version": 3
   },
   "file_extension": ".py",
   "mimetype": "text/x-python",
   "name": "python",
   "nbconvert_exporter": "python",
   "pygments_lexer": "ipython3",
   "version": "3.7.3"
  }
 },
 "nbformat": 4,
 "nbformat_minor": 2
}
