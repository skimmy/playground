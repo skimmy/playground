{
 "cells": [
  {
   "cell_type": "code",
   "execution_count": 1,
   "metadata": {},
   "outputs": [],
   "source": [
    "import numpy as np"
   ]
  },
  {
   "cell_type": "code",
   "execution_count": 82,
   "metadata": {},
   "outputs": [],
   "source": [
    "def random_string(n, Sigma=[\"A\",\"C\",\"G\",\"T\"]):\n",
    "    return np.random.choice(Sigma, size=n)\n",
    "\n",
    "def perturb_string(s, p, Sigma=[\"A\",\"C\",\"G\",\"T\"]):\n",
    "    out = []\n",
    "    for c in s:\n",
    "        new_c = c\n",
    "        if np.random.uniform() < p:\n",
    "            j = (Sigma.index(c) + np.random.choice([1,2,3])) % len(Sigma)\n",
    "            new_c = Sigma[j]\n",
    "        out.append(new_c)\n",
    "    return np.asarray(out)\n",
    "\n",
    "def edit_distance(x, y):\n",
    "    n = len(x)\n",
    "    m = len(y)\n",
    "    M = np.zeros([n+1,m+1], dtype=np.int)\n",
    "    M[0,:] = np.arange(0,M.shape[1])\n",
    "    M[:,0] = np.arange(0,M.shape[0])\n",
    "    for i in range(1,n+1):\n",
    "        for j in range(1,m+1):\n",
    "            delta = int(x[i-1] != y[j-1])\n",
    "            M[i,j] = np.min([\n",
    "                M[i-1, j-1] + delta,\n",
    "                M[i-1, j] + 1,\n",
    "                M[i, j-1] + 1\n",
    "            ])\n",
    "    return M[n,m]\n",
    "    "
   ]
  },
  {
   "cell_type": "code",
   "execution_count": 83,
   "metadata": {},
   "outputs": [],
   "source": [
    "x = random_string(10)\n",
    "y = perturb_string(x, 0.2)"
   ]
  },
  {
   "cell_type": "code",
   "execution_count": 84,
   "metadata": {},
   "outputs": [
    {
     "name": "stdout",
     "output_type": "stream",
     "text": [
      "['A' 'A' 'T' 'A' 'T' 'A' 'A' 'G' 'T' 'C']\n",
      "['A' 'G' 'T' 'A' 'C' 'A' 'A' 'G' 'T' 'C']\n",
      "2\n"
     ]
    }
   ],
   "source": [
    "print(x)\n",
    "print(y)\n",
    "print(edit_distance(x,y))"
   ]
  },
  {
   "cell_type": "code",
   "execution_count": 100,
   "metadata": {},
   "outputs": [
    {
     "name": "stdout",
     "output_type": "stream",
     "text": [
      "0.0\n",
      "25.9\n",
      "52.55\n",
      "76.15\n",
      "94.1\n",
      "115.65\n",
      "130.8\n",
      "137.55\n",
      "139.7\n",
      "138.6\n",
      "141.75\n"
     ]
    }
   ],
   "source": [
    "n = 256\n",
    "N = 20\n",
    "ps = np.linspace(0,1,11)\n",
    "Ds = []\n",
    "for p in ps:\n",
    "    D = 0\n",
    "    for i in range(N):\n",
    "        x = random_string(n)\n",
    "        y = perturb_string(x, p)\n",
    "        D += edit_distance(x, y)\n",
    "    print(D/N)\n",
    "    Ds.append(D/N)"
   ]
  },
  {
   "cell_type": "code",
   "execution_count": 102,
   "metadata": {},
   "outputs": [],
   "source": [
    "import matplotlib.pyplot as plt"
   ]
  },
  {
   "cell_type": "code",
   "execution_count": 103,
   "metadata": {},
   "outputs": [
    {
     "data": {
      "text/plain": [
       "[<matplotlib.lines.Line2D at 0x7f808314b8d0>]"
      ]
     },
     "execution_count": 103,
     "metadata": {},
     "output_type": "execute_result"
    },
    {
     "data": {
      "image/png": "[encoded data removed]",
      "text/plain": [
       "<Figure size 432x288 with 1 Axes>"
      ]
     },
     "metadata": {
      "needs_background": "light"
     },
     "output_type": "display_data"
    }
   ],
   "source": [
    "plt.plot(ps, Ds)"
   ]
  },
  {
   "cell_type": "code",
   "execution_count": null,
   "metadata": {},
   "outputs": [],
   "source": []
  }
 ],
 "metadata": {
  "kernelspec": {
   "display_name": "Python 3",
   "language": "python",
   "name": "python3"
  },
  "language_info": {
   "codemirror_mode": {
    "name": "ipython",
    "version": 3
   },
   "file_extension": ".py",
   "mimetype": "text/x-python",
   "name": "python",
   "nbconvert_exporter": "python",
   "pygments_lexer": "ipython3",
   "version": "3.7.9"
  }
 },
 "nbformat": 4,
 "nbformat_minor": 4
}
