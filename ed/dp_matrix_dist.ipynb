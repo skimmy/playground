{
 "cells": [
  {
   "cell_type": "markdown",
   "metadata": {},
   "source": [
    "# Dynamic Programming (DP) Matrix Distribution\n",
    "We collect here some preliminary analysis on the distribution on the values on the entries of the dynamic programming matrix used to compute the edit distance"
   ]
  },
  {
   "cell_type": "code",
   "execution_count": 3,
   "metadata": {},
   "outputs": [],
   "source": [
    "import numpy as np\n",
    "import matplotlib.pyplot as plt\n",
    "import seaborn as sns"
   ]
  },
  {
   "cell_type": "code",
   "execution_count": 40,
   "metadata": {},
   "outputs": [],
   "source": [
    "def ed(x, y):\n",
    "    n = len(x)\n",
    "    m = len(y)\n",
    "    M = np.zeros([n+1,m+1])\n",
    "    M[0,:] = np.arange(0,m+1)\n",
    "    M[:,0] = np.arange(0,n+1)\n",
    "    for i in range(n):\n",
    "        for j in range(m):\n",
    "            delta = int(x[i]!=y[j])\n",
    "            M[i+1,j+1] = min(M[i,j] + delta, min(M[i,j+1]+1,M[i+1,j]+1))\n",
    "    return M"
   ]
  },
  {
   "cell_type": "markdown",
   "metadata": {},
   "source": [
    "The following code runs many times the dynamic programming algorithm and accumulates on a single matrix all the outcome matrixes for further analysis"
   ]
  },
  {
   "cell_type": "code",
   "execution_count": 73,
   "metadata": {},
   "outputs": [],
   "source": [
    "Sigma = [\"A\",\"C\",\"G\",\"T\"]\n",
    "n = 256\n",
    "n_pairs = 1000\n",
    "M = np.zeros([n+1,n+1])\n",
    "for k in range(n_pairs):\n",
    "    x = np.random.choice(Sigma,n)\n",
    "    y = np.random.choice(Sigma,n)\n",
    "    M += ed(x,y)"
   ]
  },
  {
   "cell_type": "markdown",
   "metadata": {},
   "source": [
    "It appears interesting the relation between diagonal elements. The element $M_{i,i}$ of the computed matrix contains an estimated of $e(i)$, therefore the difference between elements $(i,i)$ and $(i-1,i-1)$ of this matrix represent an estimate of the difference between $e(i)$ and $e(i-1)$.\n"
   ]
  },
  {
   "cell_type": "code",
   "execution_count": 108,
   "metadata": {},
   "outputs": [
    {
     "data": {
      "text/plain": [
       "[<matplotlib.lines.Line2D at 0x1a1b129dd8>]"
      ]
     },
     "execution_count": 108,
     "metadata": {},
     "output_type": "execute_result"
    },
    {
     "data": {
      "image/png": "[encoded data removed]",
      "text/plain": [
       "<Figure size 432x288 with 2 Axes>"
      ]
     },
     "metadata": {
      "needs_background": "light"
     },
     "output_type": "display_data"
    }
   ],
   "source": [
    "De = (M.diagonal()[1:]-M.diagonal()[:-1])/n_pairs\n",
    "Pe = M.diagonal()[0:-1]/M.diagonal()[1:]\n",
    "fig, ax = plt.subplots(1,2)\n",
    "ax[0].plot(De)\n",
    "ax[1].plot(Pe)\n"
   ]
  },
  {
   "cell_type": "markdown",
   "metadata": {},
   "source": [
    "It appears the $e(n)-e(n-1)$ converges to $\\alpha$ and in fact one can theoretically prove that this is the case. Moreover it is easy to show that $e(n)-e(n-1)\\leq n\\alpha_n$, thus such difference represents a lower bound to $\\alpha_n$. However the most interesting question is whether this difference can be used as an upper bound to $\\alpha$. If this were the case, then the same exhaustive values calculated up to $n=15$, would give a better upper bound than the trivial one $\\alpha \\leq \\alpha_n$."
   ]
  },
  {
   "cell_type": "code",
   "execution_count": null,
   "metadata": {},
   "outputs": [],
   "source": []
  }
 ],
 "metadata": {
  "kernelspec": {
   "display_name": "Python 3",
   "language": "python",
   "name": "python3"
  },
  "language_info": {
   "codemirror_mode": {
    "name": "ipython",
    "version": 3
   },
   "file_extension": ".py",
   "mimetype": "text/x-python",
   "name": "python",
   "nbconvert_exporter": "python",
   "pygments_lexer": "ipython3",
   "version": "3.7.3"
  }
 },
 "nbformat": 4,
 "nbformat_minor": 2
}
