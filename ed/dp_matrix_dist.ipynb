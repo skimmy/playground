{
 "cells": [
  {
   "cell_type": "markdown",
   "metadata": {},
   "source": [
    "# Dynamic Programming (DP) Matrix Distribution\n",
    "We collect here some preliminary analysis on the distribution on the values on the entries of the dynamic programming matrix used to compute the edit distance"
   ]
  },
  {
   "cell_type": "code",
   "execution_count": 1,
   "metadata": {},
   "outputs": [],
   "source": [
    "import numpy as np\n",
    "import matplotlib.pyplot as plt\n",
    "import seaborn as sns"
   ]
  },
  {
   "cell_type": "code",
   "execution_count": 2,
   "metadata": {},
   "outputs": [],
   "source": [
    "def ed(x, y):\n",
    "    n = len(x)\n",
    "    m = len(y)\n",
    "    M = np.zeros([n+1,m+1])\n",
    "    M[0,:] = np.arange(0,m+1)\n",
    "    M[:,0] = np.arange(0,n+1)\n",
    "    for i in range(n):\n",
    "        for j in range(m):\n",
    "            delta = int(x[i]!=y[j])\n",
    "            M[i+1,j+1] = min(M[i,j] + delta, min(M[i,j+1]+1,M[i+1,j]+1))\n",
    "    return M"
   ]
  },
  {
   "cell_type": "markdown",
   "metadata": {},
   "source": [
    "The following code runs many times the dynamic programming algorithm and accumulates on a single matrix all the outcome matrixes for further analysis"
   ]
  },
  {
   "cell_type": "code",
   "execution_count": 3,
   "metadata": {},
   "outputs": [],
   "source": [
    "Sigma = [\"A\",\"C\",\"G\",\"T\"]\n",
    "n = 256\n",
    "n_pairs = 1000\n",
    "M = np.zeros([n+1,n+1])\n",
    "for k in range(n_pairs):\n",
    "    x = np.random.choice(Sigma,n)\n",
    "    y = np.random.choice(Sigma,n)\n",
    "    M += ed(x,y)"
   ]
  },
  {
   "cell_type": "markdown",
   "metadata": {},
   "source": [
    "It appears interesting the relation between diagonal elements. The element $M_{i,i}$ of the computed matrix contains an estimated of $e(i)$, therefore the difference between elements $(i,i)$ and $(i-1,i-1)$ of this matrix represent an estimate of the difference between $e(i)$ and $e(i-1)$.\n"
   ]
  },
  {
   "cell_type": "code",
   "execution_count": 4,
   "metadata": {},
   "outputs": [
    {
     "data": {
      "text/plain": [
       "[<matplotlib.lines.Line2D at 0x1a1e5a9198>]"
      ]
     },
     "execution_count": 4,
     "metadata": {},
     "output_type": "execute_result"
    },
    {
     "data": {
      "image/png": "[encoded data removed]",
      "text/plain": [
       "<Figure size 432x288 with 2 Axes>"
      ]
     },
     "metadata": {
      "needs_background": "light"
     },
     "output_type": "display_data"
    }
   ],
   "source": [
    "De = (M.diagonal()[1:]-M.diagonal()[:-1])/n_pairs\n",
    "Pe = M.diagonal()[0:-1]/M.diagonal()[1:]\n",
    "fig, ax = plt.subplots(1,2)\n",
    "ax[0].plot(De)\n",
    "ax[1].plot(Pe)\n"
   ]
  },
  {
   "cell_type": "markdown",
   "metadata": {},
   "source": [
    "It appears the $e(n)-e(n-1)$ converges to $\\alpha$ and in fact one can theoretically prove that this is the case. Moreover it is easy to show that $e(n)-e(n-1)\\leq n\\alpha_n$, thus such difference represents a lower bound to $\\alpha_n$. However the most interesting question is whether this difference can be used as an upper bound to $\\alpha$. If this were the case, then the same exhaustive values calculated up to $n=15$, would give a better upper bound than the trivial one $\\alpha \\leq \\alpha_n$."
   ]
  },
  {
   "cell_type": "code",
   "execution_count": 6,
   "metadata": {},
   "outputs": [
    {
     "data": {
      "text/plain": [
       "array([0.767, 0.762, 0.682, 0.68 , 0.632, 0.618, 0.638, 0.617, 0.591,\n",
       "       0.611, 0.572, 0.595, 0.573, 0.589, 0.586, 0.566, 0.581, 0.54 ,\n",
       "       0.576, 0.53 , 0.55 , 0.534, 0.588, 0.586, 0.568, 0.522, 0.581,\n",
       "       0.553, 0.541, 0.589, 0.579, 0.556, 0.541, 0.531, 0.544, 0.561,\n",
       "       0.53 , 0.566, 0.563, 0.575, 0.554, 0.526, 0.562, 0.528, 0.55 ,\n",
       "       0.554, 0.54 , 0.516, 0.535, 0.538, 0.542, 0.536, 0.537, 0.534,\n",
       "       0.533, 0.543, 0.552, 0.537, 0.546, 0.511, 0.545, 0.528, 0.531,\n",
       "       0.553, 0.533, 0.534, 0.552, 0.509, 0.536, 0.542, 0.541, 0.522,\n",
       "       0.568, 0.535, 0.527, 0.551, 0.497, 0.567, 0.547, 0.513, 0.535,\n",
       "       0.528, 0.539, 0.528, 0.528, 0.524, 0.532, 0.522, 0.517, 0.524,\n",
       "       0.551, 0.541, 0.537, 0.516, 0.541, 0.546, 0.537, 0.539, 0.507,\n",
       "       0.543, 0.536, 0.536, 0.517, 0.514, 0.549, 0.527, 0.557, 0.545,\n",
       "       0.544, 0.537, 0.53 , 0.519, 0.552, 0.551, 0.538, 0.51 , 0.537,\n",
       "       0.513, 0.501, 0.563, 0.526, 0.521, 0.544, 0.551, 0.524, 0.529,\n",
       "       0.54 , 0.527, 0.534, 0.535, 0.521, 0.55 , 0.526, 0.527, 0.54 ,\n",
       "       0.519, 0.526, 0.508, 0.532, 0.546, 0.533, 0.532, 0.492, 0.532,\n",
       "       0.522, 0.508, 0.538, 0.555, 0.513, 0.534, 0.512, 0.545, 0.511,\n",
       "       0.527, 0.534, 0.49 , 0.5  , 0.541, 0.546, 0.559, 0.524, 0.528,\n",
       "       0.518, 0.533, 0.565, 0.541, 0.533, 0.515, 0.533, 0.491, 0.531,\n",
       "       0.522, 0.53 , 0.515, 0.529, 0.54 , 0.498, 0.509, 0.526, 0.566,\n",
       "       0.558, 0.522, 0.537, 0.526, 0.506, 0.512, 0.549, 0.52 , 0.534,\n",
       "       0.554, 0.528, 0.55 , 0.544, 0.536, 0.536, 0.525, 0.513, 0.522,\n",
       "       0.526, 0.512, 0.516, 0.544, 0.516, 0.508, 0.508, 0.549, 0.52 ,\n",
       "       0.534, 0.497, 0.514, 0.522, 0.521, 0.537, 0.542, 0.51 , 0.524,\n",
       "       0.513, 0.513, 0.545, 0.554, 0.542, 0.513, 0.531, 0.53 , 0.522,\n",
       "       0.538, 0.519, 0.521, 0.544, 0.517, 0.532, 0.527, 0.558, 0.512,\n",
       "       0.496, 0.51 , 0.528, 0.537, 0.555, 0.537, 0.509, 0.527, 0.509,\n",
       "       0.518, 0.541, 0.546, 0.521, 0.553, 0.508, 0.521, 0.51 , 0.524,\n",
       "       0.508, 0.566, 0.508, 0.521])"
      ]
     },
     "execution_count": 6,
     "metadata": {},
     "output_type": "execute_result"
    }
   ],
   "source": [
    "De"
   ]
  },
  {
   "cell_type": "code",
   "execution_count": null,
   "metadata": {},
   "outputs": [],
   "source": []
  }
 ],
 "metadata": {
  "kernelspec": {
   "display_name": "Python 3",
   "language": "python",
   "name": "python3"
  },
  "language_info": {
   "codemirror_mode": {
    "name": "ipython",
    "version": 3
   },
   "file_extension": ".py",
   "mimetype": "text/x-python",
   "name": "python",
   "nbconvert_exporter": "python",
   "pygments_lexer": "ipython3",
   "version": "3.7.3"
  }
 },
 "nbformat": 4,
 "nbformat_minor": 2
}
