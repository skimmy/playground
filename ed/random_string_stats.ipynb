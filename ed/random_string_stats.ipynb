{
 "cells": [
  {
   "cell_type": "code",
   "execution_count": 1,
   "metadata": {},
   "outputs": [],
   "source": [
    "import numpy as np"
   ]
  },
  {
   "cell_type": "code",
   "execution_count": 2,
   "metadata": {},
   "outputs": [],
   "source": [
    "Sigma = np.asarray(['A', 'C', 'G', 'T'])"
   ]
  },
  {
   "cell_type": "code",
   "execution_count": 3,
   "metadata": {},
   "outputs": [],
   "source": [
    "n = 40000"
   ]
  },
  {
   "cell_type": "code",
   "execution_count": 4,
   "metadata": {},
   "outputs": [],
   "source": [
    "def run_statistics(x):\n",
    "    n = len(x)\n",
    "    stats = np.zeros(n+1)\n",
    "    s_ = x[0]\n",
    "    r_ = 1\n",
    "    for i in range(1,n):\n",
    "        if(s_ != x[i]):\n",
    "            stats[r_] += 1\n",
    "            s_ = x[i]\n",
    "            r_ = 1\n",
    "        else:\n",
    "            r_ += 1\n",
    "    stats[r_] += 1\n",
    "    return stats"
   ]
  },
  {
   "cell_type": "code",
   "execution_count": 5,
   "metadata": {},
   "outputs": [
    {
     "name": "stdout",
     "output_type": "stream",
     "text": [
      "40000.0\n",
      "[0.0000e+00 5.6140e-01 1.3960e-01 3.6675e-02 8.7000e-03 2.1750e-03\n",
      " 5.2500e-04 5.0000e-05 2.5000e-05 0.0000e+00 0.0000e+00 0.0000e+00\n",
      " 0.0000e+00 0.0000e+00 0.0000e+00 0.0000e+00 0.0000e+00 0.0000e+00\n",
      " 0.0000e+00 0.0000e+00]\n"
     ]
    }
   ],
   "source": [
    "x = np.random.choice(Sigma,n)\n",
    "stats = run_statistics(x)\n",
    "print(np.sum(stats*np.arange(0,n+1)))\n",
    "print(stats[0:20]/n)"
   ]
  },
  {
   "cell_type": "code",
   "execution_count": 19,
   "metadata": {},
   "outputs": [
    {
     "name": "stdout",
     "output_type": "stream",
     "text": [
      "ATGAAGCCTTTGCAGTACTGAGAGCCGTAAAACGGCAAGCGTCATCGTTCCTACAACCCCAAACATGCTTATCGAGCACAGCTGATCTTTTGAATCCCCGCCTGTTCGGGGACAGAGATCAGGCATGGACGCCGACCAATTTTATATTTAATTCCGGGGGCATCCAGTACCAACCTACTACACGCCCGGGCGACCTTTGAAGTCGATAACTGAGAATAACAGTAATCGCCGGGCCATTTATACTCTATCGGTAGGA\n"
     ]
    }
   ],
   "source": []
  },
  {
   "cell_type": "code",
   "execution_count": null,
   "metadata": {},
   "outputs": [],
   "source": []
  }
 ],
 "metadata": {
  "kernelspec": {
   "display_name": "Python 3",
   "language": "python",
   "name": "python3"
  },
  "language_info": {
   "codemirror_mode": {
    "name": "ipython",
    "version": 3
   },
   "file_extension": ".py",
   "mimetype": "text/x-python",
   "name": "python",
   "nbconvert_exporter": "python",
   "pygments_lexer": "ipython3",
   "version": "3.7.3"
  }
 },
 "nbformat": 4,
 "nbformat_minor": 2
}
