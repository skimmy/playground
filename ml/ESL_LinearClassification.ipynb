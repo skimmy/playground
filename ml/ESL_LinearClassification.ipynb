{
 "cells": [
  {
   "cell_type": "markdown",
   "metadata": {},
   "source": [
    "# Linear Classification (ESL)\n",
    "This is a notebook that elaborates on the chapter 4 \"Linear Methods for Classification\" of the \"Elements of Statistical Learning\" book.\n",
    "\n",
    "## Classification and linear models\n",
    "We start by exploring one simple modelfor classification the one that uses hyperplanes to separate two classes (*i.e.*, binary classification). Since there is no real method in ``sklearn`` to generate a linearly separable dataset, we start by making a function that creates such a set using the following procedure.\n",
    "1. Generate a random hyperplane $\\beta_0 + \\beta^T x$\n",
    "2. Generate points at random\n",
    "\n",
    "3. Assign labels to point according to separation induced by the hyperplane"
   ]
  },
  {
   "cell_type": "code",
   "execution_count": 18,
   "metadata": {},
   "outputs": [
    {
     "name": "stdout",
     "output_type": "stream",
     "text": [
      "[[-1.04862152e+01  3.97764217e-01  7.11205310e+01]\n",
      " [-4.46593297e+01  3.95700216e-01  2.57371492e+01]\n",
      " [-8.02429176e+00  2.94027808e-01  1.97454945e+02]\n",
      " [-4.92866511e+01  3.59501838e-01 -1.33834193e+02]\n",
      " [-2.07973900e+01 -2.55729588e-01  1.43032427e+02]\n",
      " [ 1.35083545e+01  1.19498234e+00 -1.52428691e+02]\n",
      " [-5.14560540e+01  2.26647702e-01  4.99652586e+01]\n",
      " [-5.72465902e+00  9.82781068e-02 -8.35849032e+01]\n",
      " [ 2.01563146e+01 -9.78922118e-02  1.80899570e+02]\n",
      " [-1.83175160e+01  6.31582378e-01  1.36653086e+02]]\n"
     ]
    },
    {
     "data": {
      "text/plain": [
       "(array([[ 2.45470571,  4.05167588, -2.81553889],\n",
       "        [10.45424961,  4.03065171, -1.01888925],\n",
       "        [ 1.87839696,  2.9950039 , -7.81689998],\n",
       "        [11.53745379,  3.66193052,  5.29826439],\n",
       "        [ 4.86843641, -2.60489345, -5.66240656],\n",
       "        [-3.16215471, 12.17223898,  6.03438841],\n",
       "        [12.04528676,  2.30866174, -1.97803822],\n",
       "        [ 1.34007865,  1.00107304,  3.30898185],\n",
       "        [-4.71836782, -0.99714227, -7.16150129],\n",
       "        [ 4.28792562,  6.43337681, -5.40985949]]),\n",
       " array([10,  1]),\n",
       " array([ -4.27188286,   0.09817276, -25.2600066 , -20.77416709]))"
      ]
     },
     "execution_count": 18,
     "metadata": {},
     "output_type": "execute_result"
    }
   ],
   "source": [
    "import numpy as np\n",
    "def make_linearly_separable(n_samples=100, n_features=20, bias_scale=10, b_scale=10, X_scale=5):\n",
    "    X = np.random.randn(n_samples, n_features)*X_scale\n",
    "    y = np.array([n_samples, 1])\n",
    "    b0 = np.random.randn(1)*bias_scale\n",
    "    b = np.random.randn(n_features)*b_scale\n",
    "    beta = np.append(b, [b0])\n",
    "    \n",
    "    return X,y, beta\n",
    "\n",
    "make_linearly_separable(10,3)"
   ]
  },
  {
   "cell_type": "code",
   "execution_count": null,
   "metadata": {},
   "outputs": [],
   "source": []
  }
 ],
 "metadata": {
  "kernelspec": {
   "display_name": "Python 3",
   "language": "python",
   "name": "python3"
  },
  "language_info": {
   "codemirror_mode": {
    "name": "ipython",
    "version": 3
   },
   "file_extension": ".py",
   "mimetype": "text/x-python",
   "name": "python",
   "nbconvert_exporter": "python",
   "pygments_lexer": "ipython3",
   "version": "3.7.2"
  }
 },
 "nbformat": 4,
 "nbformat_minor": 2
}
