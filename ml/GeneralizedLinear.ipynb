{
 "cells": [
  {
   "cell_type": "markdown",
   "metadata": {},
   "source": [
    "# Generalized Linear Models\n",
    "In this notebook we study *generalized linear model* and analyze how they can be implemented and tested, we will start with a generalization that is not present in the ``sklearn`` library and will be useful to us: linear model with quadratic features.\n",
    "\n",
    "## Linear model with quadratic feature\n",
    "Consider the $p$ features $x_1,\\ldots,x_p$, we will expand the space to include also the features $x_1^2,\\ldots,x_p^2$, thus the expansion doubles the number of features and introduces non-linear behavior. However this transformation differs from the usual ``PolynomialFeatures`` because it does not include *interaction* features (*e.g.*, feature like $x_1x_2$)"
   ]
  },
  {
   "cell_type": "code",
   "execution_count": 5,
   "metadata": {},
   "outputs": [],
   "source": [
    "import numpy as np\n",
    "def PolynomialTransformation(X, degree=2):\n",
    "    return np.stack([np.concatenate([x**d for d in range(1,degree+1)]) for x in X])"
   ]
  },
  {
   "cell_type": "markdown",
   "metadata": {},
   "source": [
    "Above function actually works for any degree $d$ and produces the feature expansion\n",
    "\\begin{align*}\n",
    "(x_1,\\ldots,x_p) \\longrightarrow (x_1,\\ldots,x_p,x_1^2,\\ldots,x_p^2,\\ldots,x_1^d,\\ldots x_p^d)\n",
    "\\end{align*}\n",
    "We test the model by generating sample points from a quadratic function $f(x) = ax^2 + bx + c$ and then esitmating it using both ordinary regression on the feature space $x$ and on the feature space $(x^2, x)$. Clearly we expecte the latter to perform better (in fact in the latter case the generator function is contained in the class model used for predictors)."
   ]
  },
  {
   "cell_type": "code",
   "execution_count": 34,
   "metadata": {},
   "outputs": [],
   "source": [
    "def generate_quadratic(n_samples, noise=0):\n",
    "    a,b,c = np.random.randn(3)*10\n",
    "    x = np.random.randn(n_samples)*20\n",
    "    y = a*(x**2) + b*x + c + noise*np.random.randn(n_samples)\n",
    "    return x,y,a,b,c\n",
    "    \n",
    "x,y,a,b,c = generate_quadratic(40,noise=1000)"
   ]
  },
  {
   "cell_type": "code",
   "execution_count": 35,
   "metadata": {},
   "outputs": [
    {
     "data": {
      "text/plain": [
       "<matplotlib.collections.PathCollection at 0x7f306cbd7390>"
      ]
     },
     "execution_count": 35,
     "metadata": {},
     "output_type": "execute_result"
    },
    {
     "data": {
      "image/png": "[encoded data removed]",
      "text/plain": [
       "<Figure size 432x288 with 1 Axes>"
      ]
     },
     "metadata": {
      "needs_background": "light"
     },
     "output_type": "display_data"
    }
   ],
   "source": [
    "import matplotlib.pyplot as plt\n",
    "plt.scatter(x,y)"
   ]
  },
  {
   "cell_type": "code",
   "execution_count": 36,
   "metadata": {},
   "outputs": [
    {
     "data": {
      "text/plain": [
       "<matplotlib.legend.Legend at 0x7f306cbadf28>"
      ]
     },
     "execution_count": 36,
     "metadata": {},
     "output_type": "execute_result"
    },
    {
     "data": {
      "image/png": "[encoded data removed]",
      "text/plain": [
       "<Figure size 432x288 with 1 Axes>"
      ]
     },
     "metadata": {
      "needs_background": "light"
     },
     "output_type": "display_data"
    }
   ],
   "source": [
    "from sklearn.linear_model import LinearRegression\n",
    "ordinary = LinearRegression()\n",
    "ordinary.fit(x.reshape(-1,1),y)\n",
    "xq = PolynomialTransformation(x.reshape(-1,1))\n",
    "quad_expansion = LinearRegression()\n",
    "quad_expansion.fit(xq,y)\n",
    "\n",
    "plt.scatter(x,ordinary.predict(x.reshape(-1,1)), label=\"Ordinary\")\n",
    "plt.scatter(x,quad_expansion.predict(xq), label=\"Sqaure Expansion\")\n",
    "plt.scatter(x,y,label=\"Real\", alpha=0.4)\n",
    "plt.legend()"
   ]
  },
  {
   "cell_type": "markdown",
   "metadata": {},
   "source": [
    "It is quite obvious that the square expansion worked out well and gave good results (in fact almost perfect result due to absence of noise in $y$)."
   ]
  },
  {
   "cell_type": "code",
   "execution_count": 37,
   "metadata": {},
   "outputs": [],
   "source": [
    "from sklearn.pipeline import make_pipeline\n",
    "from sklearn.preprocessing import FunctionTransformer\n",
    "pipeline = make_pipeline( FunctionTransformer(PolynomialTransformation),LinearRegression())"
   ]
  },
  {
   "cell_type": "code",
   "execution_count": 38,
   "metadata": {},
   "outputs": [
    {
     "name": "stderr",
     "output_type": "stream",
     "text": [
      "/usr/lib/python3/dist-packages/sklearn/preprocessing/_function_transformer.py:98: FutureWarning: The default validate=True will be replaced by validate=False in 0.22.\n",
      "  \"validate=False in 0.22.\", FutureWarning)\n",
      "/usr/lib/python3/dist-packages/sklearn/preprocessing/_function_transformer.py:98: FutureWarning: The default validate=True will be replaced by validate=False in 0.22.\n",
      "  \"validate=False in 0.22.\", FutureWarning)\n"
     ]
    },
    {
     "data": {
      "text/plain": [
       "Pipeline(memory=None,\n",
       "     steps=[('functiontransformer', FunctionTransformer(accept_sparse=False, check_inverse=True,\n",
       "          func=<function PolynomialTransformation at 0x7f306cffec80>,\n",
       "          inv_kw_args=None, inverse_func=None, kw_args=None,\n",
       "          pass_y='deprecated', validate=None)), ('linearregression', LinearRegression(copy_X=True, fit_intercept=True, n_jobs=None,\n",
       "         normalize=False))])"
      ]
     },
     "execution_count": 38,
     "metadata": {},
     "output_type": "execute_result"
    }
   ],
   "source": [
    "pipeline.fit(x.reshape(-1,1),y)"
   ]
  },
  {
   "cell_type": "code",
   "execution_count": 39,
   "metadata": {},
   "outputs": [
    {
     "data": {
      "text/plain": [
       "array([ -5.65220582, -12.28232465])"
      ]
     },
     "execution_count": 39,
     "metadata": {},
     "output_type": "execute_result"
    }
   ],
   "source": [
    "pipeline.steps[-1][-1].coef_"
   ]
  },
  {
   "cell_type": "code",
   "execution_count": 40,
   "metadata": {},
   "outputs": [
    {
     "data": {
      "text/plain": [
       "array([ -5.65220582, -12.28232465])"
      ]
     },
     "execution_count": 40,
     "metadata": {},
     "output_type": "execute_result"
    }
   ],
   "source": [
    "quad_expansion.coef_"
   ]
  },
  {
   "cell_type": "code",
   "execution_count": 41,
   "metadata": {},
   "outputs": [
    {
     "name": "stdout",
     "output_type": "stream",
     "text": [
      "894000.0428035466\n",
      "29061920.810804226\n"
     ]
    },
    {
     "name": "stderr",
     "output_type": "stream",
     "text": [
      "/usr/lib/python3/dist-packages/sklearn/preprocessing/_function_transformer.py:98: FutureWarning: The default validate=True will be replaced by validate=False in 0.22.\n",
      "  \"validate=False in 0.22.\", FutureWarning)\n"
     ]
    }
   ],
   "source": [
    "from sklearn.metrics import mean_squared_error\n",
    "print(mean_squared_error(y, pipeline.predict(x.reshape(-1,1))))\n",
    "print(mean_squared_error(y, ordinary.predict(x.reshape(-1,1))))"
   ]
  },
  {
   "cell_type": "code",
   "execution_count": null,
   "metadata": {},
   "outputs": [],
   "source": []
  }
 ],
 "metadata": {
  "kernelspec": {
   "display_name": "Python 3",
   "language": "python",
   "name": "python3"
  },
  "language_info": {
   "codemirror_mode": {
    "name": "ipython",
    "version": 3
   },
   "file_extension": ".py",
   "mimetype": "text/x-python",
   "name": "python",
   "nbconvert_exporter": "python",
   "pygments_lexer": "ipython3",
   "version": "3.7.2+"
  }
 },
 "nbformat": 4,
 "nbformat_minor": 2
}
