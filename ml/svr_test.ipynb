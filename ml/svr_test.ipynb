{
 "cells": [
  {
   "cell_type": "code",
   "execution_count": 1,
   "metadata": {},
   "outputs": [],
   "source": [
    "import numpy as np\n",
    "from sklearn.svm import SVR"
   ]
  },
  {
   "cell_type": "code",
   "execution_count": 15,
   "metadata": {},
   "outputs": [
    {
     "data": {
      "text/plain": [
       "SVR(C=1.0, cache_size=200, coef0=0.0, degree=3, epsilon=0.2, gamma='scale',\n",
       "  kernel='rbf', max_iter=-1, shrinking=True, tol=0.001, verbose=False)"
      ]
     },
     "execution_count": 15,
     "metadata": {},
     "output_type": "execute_result"
    }
   ],
   "source": [
    "n_samples, n_features = 100, 5\n",
    "np.random.seed(22)\n",
    "y = np.random.randn(n_samples)\n",
    "X = np.random.randn(n_samples, n_features)\n",
    "clf = SVR(gamma='scale', C=1.0, epsilon=0.2)\n",
    "clf.fit(X,y)\n"
   ]
  },
  {
   "cell_type": "code",
   "execution_count": 16,
   "metadata": {},
   "outputs": [
    {
     "data": {
      "text/plain": [
       "0.35643863069196735"
      ]
     },
     "execution_count": 16,
     "metadata": {},
     "output_type": "execute_result"
    }
   ],
   "source": [
    "clf.score(X,y)"
   ]
  },
  {
   "cell_type": "code",
   "execution_count": 17,
   "metadata": {},
   "outputs": [
    {
     "data": {
      "text/plain": [
       "{'C': 1.0,\n",
       " 'cache_size': 200,\n",
       " 'coef0': 0.0,\n",
       " 'degree': 3,\n",
       " 'epsilon': 0.2,\n",
       " 'gamma': 'scale',\n",
       " 'kernel': 'rbf',\n",
       " 'max_iter': -1,\n",
       " 'shrinking': True,\n",
       " 'tol': 0.001,\n",
       " 'verbose': False}"
      ]
     },
     "execution_count": 17,
     "metadata": {},
     "output_type": "execute_result"
    }
   ],
   "source": [
    "clf.get_params()"
   ]
  },
  {
   "cell_type": "code",
   "execution_count": 18,
   "metadata": {},
   "outputs": [],
   "source": [
    "from sklearn.model_selection import GridSearchCV"
   ]
  },
  {
   "cell_type": "code",
   "execution_count": 19,
   "metadata": {},
   "outputs": [],
   "source": [
    "degrees = [2,3,4]\n",
    "Cs = [0.5, 1, 2, 4, 8, 16, 32, 64, 128]\n",
    "epsilons= [0.01, 0.1, 0.5, 1]\n",
    "cv = GridSearchCV(SVR(), {'degree' : degrees, 'kernel' : ['rbf', 'poly'], 'C' : Cs, 'gamma' : ['auto'], 'epsilon' : epsilons} ,cv=5)"
   ]
  },
  {
   "cell_type": "code",
   "execution_count": 20,
   "metadata": {},
   "outputs": [
    {
     "data": {
      "text/plain": [
       "GridSearchCV(cv=5, error_score='raise-deprecating',\n",
       "       estimator=SVR(C=1.0, cache_size=200, coef0=0.0, degree=3, epsilon=0.1,\n",
       "  gamma='auto_deprecated', kernel='rbf', max_iter=-1, shrinking=True,\n",
       "  tol=0.001, verbose=False),\n",
       "       fit_params=None, iid='warn', n_jobs=None,\n",
       "       param_grid={'degree': [2, 3, 4], 'kernel': ['rbf', 'poly'], 'C': [0.5, 1, 2, 4, 8, 16, 32, 64, 128], 'gamma': ['auto'], 'epsilon': [0.01, 0.1, 0.5, 1]},\n",
       "       pre_dispatch='2*n_jobs', refit=True, return_train_score='warn',\n",
       "       scoring=None, verbose=0)"
      ]
     },
     "execution_count": 20,
     "metadata": {},
     "output_type": "execute_result"
    }
   ],
   "source": [
    "cv.fit(X,y)"
   ]
  },
  {
   "cell_type": "code",
   "execution_count": 21,
   "metadata": {},
   "outputs": [
    {
     "data": {
      "text/plain": [
       "0.20445016925690684"
      ]
     },
     "execution_count": 21,
     "metadata": {},
     "output_type": "execute_result"
    }
   ],
   "source": [
    "cv.best_estimator_.score(X,y)"
   ]
  },
  {
   "cell_type": "code",
   "execution_count": 22,
   "metadata": {},
   "outputs": [
    {
     "data": {
      "text/plain": [
       "array([-8.10201166e-02, -6.90525356e-02, -8.30999908e-02, -7.54826466e-02,\n",
       "       -8.46967645e-02, -6.41212919e-02, -4.73587729e-02, -1.10319194e-01,\n",
       "       -8.10201166e-02, -2.10737809e-01, -8.30999908e-02, -1.64594627e-01,\n",
       "       -8.46967645e-02, -1.04980166e-01, -4.73587729e-02, -4.22721132e-02,\n",
       "       -8.10201166e-02, -5.32273934e-01, -8.30999908e-02, -4.57952482e-01,\n",
       "       -8.46967645e-02, -2.72140369e-01, -4.73587729e-02, -1.63835985e-01,\n",
       "       -1.26945282e-01, -1.62204890e-01, -1.27368420e-01, -1.70693479e-01,\n",
       "       -1.26477407e-01, -1.16260957e-01, -8.51646563e-02, -1.38125786e-01,\n",
       "       -1.26945282e-01, -4.29484433e-01, -1.27368420e-01, -5.48951142e-01,\n",
       "       -1.26477407e-01, -3.02321158e-01, -8.51646563e-02, -7.72588531e-02,\n",
       "       -1.26945282e-01, -1.50038965e+00, -1.27368420e-01, -1.36824447e+00,\n",
       "       -1.26477407e-01, -6.35283681e-01, -8.51646563e-02, -2.25127916e-01,\n",
       "       -2.62879855e-01, -2.17103223e-01, -2.54966432e-01, -1.84164530e-01,\n",
       "       -1.68505392e-01, -1.88697588e-01, -1.40827035e-01, -1.48340619e-01,\n",
       "       -2.62879855e-01, -1.10963571e+00, -2.54966432e-01, -1.20379755e+00,\n",
       "       -1.68505392e-01, -5.40154036e-01, -1.40827035e-01, -1.07825888e-01,\n",
       "       -2.62879855e-01, -3.14881516e+00, -2.54966432e-01, -2.76130625e+00,\n",
       "       -1.68505392e-01, -1.33479273e+00, -1.40827035e-01, -2.31079669e-01,\n",
       "       -4.82029308e-01, -2.22743274e-01, -4.47498702e-01, -1.82393565e-01,\n",
       "       -2.68123542e-01, -2.07205616e-01, -1.97055493e-01, -1.53524978e-01,\n",
       "       -4.82029308e-01, -1.98316236e+00, -4.47498702e-01, -1.96924266e+00,\n",
       "       -2.68123542e-01, -9.06625148e-01, -1.97055493e-01, -2.03546806e-01,\n",
       "       -4.82029308e-01, -7.64118342e+00, -4.47498702e-01, -6.74527710e+00,\n",
       "       -2.68123542e-01, -2.70112553e+00, -1.97055493e-01, -2.96422108e-01,\n",
       "       -7.68867925e-01, -2.39886772e-01, -6.83487192e-01, -2.10399977e-01,\n",
       "       -3.45799978e-01, -2.02149579e-01, -3.45053406e-01, -1.71394910e-01,\n",
       "       -7.68867925e-01, -3.92022168e+00, -6.83487192e-01, -3.69249515e+00,\n",
       "       -3.45799978e-01, -1.47688910e+00, -3.45053406e-01, -3.83245533e-01,\n",
       "       -7.68867925e-01, -1.31144586e+01, -6.83487192e-01, -1.19416435e+01,\n",
       "       -3.45799978e-01, -3.49678608e+00, -3.45053406e-01, -4.14061563e-01,\n",
       "       -9.58068510e-01, -2.48375942e-01, -8.62811410e-01, -2.22512093e-01,\n",
       "       -4.88810330e-01, -2.12910755e-01, -5.65219924e-01, -1.79665189e-01,\n",
       "       -9.58068510e-01, -5.34758772e+00, -8.62811410e-01, -4.71484335e+00,\n",
       "       -4.88810330e-01, -1.88299588e+00, -5.65219924e-01, -6.75055236e-01,\n",
       "       -9.58068510e-01, -1.90048989e+01, -8.62811410e-01, -2.05108795e+01,\n",
       "       -4.88810330e-01, -5.92617139e+00, -5.65219924e-01, -6.61416015e-01,\n",
       "       -1.21489651e+00, -2.47198870e-01, -1.06706896e+00, -2.21353697e-01,\n",
       "       -7.95057179e-01, -2.46178107e-01, -6.87731027e-01, -2.05827310e-01,\n",
       "       -1.21489651e+00, -5.83679755e+00, -1.06706896e+00, -4.93999769e+00,\n",
       "       -7.95057179e-01, -2.14675957e+00, -6.87731027e-01, -1.15754308e+00,\n",
       "       -1.21489651e+00, -2.52131450e+01, -1.06706896e+00, -2.30104057e+01,\n",
       "       -7.95057179e-01, -1.00012539e+01, -6.87731027e-01, -1.52208617e+00,\n",
       "       -1.68506688e+00, -2.52712642e-01, -1.51467846e+00, -2.21155968e-01,\n",
       "       -1.15105483e+00, -2.47190224e-01, -6.87731027e-01, -2.07020884e-01,\n",
       "       -1.68506688e+00, -5.96855994e+00, -1.51467846e+00, -5.32960698e+00,\n",
       "       -1.15105483e+00, -2.29650350e+00, -6.87731027e-01, -1.90932213e+00,\n",
       "       -1.68506688e+00, -4.85802216e+01, -1.51467846e+00, -5.06413097e+01,\n",
       "       -1.15105483e+00, -1.17353623e+01, -6.87731027e-01, -4.58156620e+00,\n",
       "       -2.61584153e+00, -2.52852642e-01, -2.36997909e+00, -2.22643197e-01,\n",
       "       -1.43289610e+00, -2.51849490e-01, -6.87731027e-01, -2.06206561e-01,\n",
       "       -2.61584153e+00, -6.28200007e+00, -2.36997909e+00, -5.81298459e+00,\n",
       "       -1.43289610e+00, -2.53827259e+00, -6.87731027e-01, -2.90534450e+00,\n",
       "       -2.61584153e+00, -7.60100298e+01, -2.36997909e+00, -7.60495283e+01,\n",
       "       -1.43289610e+00, -2.25220376e+01, -6.87731027e-01, -1.45810325e+01])"
      ]
     },
     "execution_count": 22,
     "metadata": {},
     "output_type": "execute_result"
    }
   ],
   "source": [
    "cv.cv_results_[\"mean_test_score\"]"
   ]
  },
  {
   "cell_type": "code",
   "execution_count": 23,
   "metadata": {},
   "outputs": [
    {
     "data": {
      "text/plain": [
       "[0.5, 1, 2, 4, 8, 16, 32, 64, 128]"
      ]
     },
     "execution_count": 23,
     "metadata": {},
     "output_type": "execute_result"
    }
   ],
   "source": [
    "Cs"
   ]
  },
  {
   "cell_type": "code",
   "execution_count": 24,
   "metadata": {},
   "outputs": [],
   "source": [
    "tilde_y = cv.best_estimator_.predict(X)"
   ]
  },
  {
   "cell_type": "code",
   "execution_count": 25,
   "metadata": {},
   "outputs": [],
   "source": [
    "import matplotlib.pyplot as plt\n",
    "import seaborn as sns\n",
    "sns.set()"
   ]
  },
  {
   "cell_type": "code",
   "execution_count": 26,
   "metadata": {},
   "outputs": [
    {
     "data": {
      "text/plain": [
       "<matplotlib.collections.PathCollection at 0x1a183e2518>"
      ]
     },
     "execution_count": 26,
     "metadata": {},
     "output_type": "execute_result"
    },
    {
     "data": {
      "image/png": "[encoded data removed]",
      "text/plain": [
       "<Figure size 432x288 with 1 Axes>"
      ]
     },
     "metadata": {},
     "output_type": "display_data"
    }
   ],
   "source": [
    "x = np.arange(len(y))\n",
    "plt.scatter(x,y)\n",
    "plt.scatter(x,tilde_y)"
   ]
  },
  {
   "cell_type": "code",
   "execution_count": null,
   "metadata": {},
   "outputs": [],
   "source": []
  }
 ],
 "metadata": {
  "kernelspec": {
   "display_name": "Python 3",
   "language": "python",
   "name": "python3"
  },
  "language_info": {
   "codemirror_mode": {
    "name": "ipython",
    "version": 3
   },
   "file_extension": ".py",
   "mimetype": "text/x-python",
   "name": "python",
   "nbconvert_exporter": "python",
   "pygments_lexer": "ipython3",
   "version": "3.7.1"
  }
 },
 "nbformat": 4,
 "nbformat_minor": 2
}
