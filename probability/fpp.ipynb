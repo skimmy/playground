{
 "cells": [
  {
   "cell_type": "markdown",
   "metadata": {},
   "source": [
    "# First Passage Percolation\n",
    "\n",
    "This notebook starts exploring the branch of probability known as *first passage percolation (FPP)* with a particular attention to the computational aspects.\n",
    "\n",
    "We start from a *lattice* $\\mathbb{Z}^d$. For clarity of exposition we will use $d=2$ most of the time, however we will try to make the exposition (and the code) as general as possible. A point on a lattice is a $d$-tuple of integers\n",
    "\\begin{align*}\n",
    "z = (z_1,z_2,\\ldots,z_d) \\in \\mathbb{Z}^d\n",
    "\\end{align*}\n",
    "\n",
    "## Passage time\n",
    "The theory of percolation borrows ideas from physics. Each point of the lattice could be viewed as a container for some fluid, the fluid can flow from one container to the another that is one of its *neighbour*, the time needed for the whole fluid to transfer from one container to the other is called the **passage time**.\n",
    "\n",
    "Formally let $P,Q\\in\\mathbb{Z}^d$ be two points of the lattice and let $e_{P,Q}$ be the *edge* between them (we deliberately use notation from graphs), then $\\tau_{e_{P,Q}}$ (or simply $\\tau_e$) is a real value called the passage time from $P$ to $Q$.\n",
    "\n",
    "If $\\Gamma$ is a *path* on the lattice made of the edges $e_1,e_2,\\ldots,e_n$, we define the passage time of $\\Gamma$ as the sum of the passage times of all its edges\n",
    "\\begin{align*}\n",
    "T(\\Gamma) = \\sum_{e\\in\\Gamma}{\\tau_e} = \\sum_{i=1}^{n}{\\tau_{e_i}}\n",
    "\\end{align*}\n",
    "\n",
    "## Generalization to $\\mathbb{R}$\n",
    "\n",
    "One can view the lattice $\\mathbb{Z}^d$ as a grid of points in $\\mathbb{R}^d$, thus it makes sense to ask whether the notion of passage time can be extended to the entire space $\\mathbb{R}^d$. A straightforward generalization assigns to each pair of points $\\mathbf{x},\\mathbf{x} \\in \\mathbb{R}^d$ the "
   ]
  },
  {
   "cell_type": "code",
   "execution_count": 16,
   "metadata": {},
   "outputs": [],
   "source": [
    "import numpy as np\n",
    "\n",
    "# dimension and size of of the lattice\n",
    "d = 2\n",
    "s = 128\n",
    "lattice = np.zeros([s]*d)"
   ]
  },
  {
   "cell_type": "code",
   "execution_count": 33,
   "metadata": {},
   "outputs": [],
   "source": [
    "def random_point(d,s):\n",
    "    return tuple(np.random.randint(0,s,d))"
   ]
  },
  {
   "cell_type": "markdown",
   "metadata": {},
   "source": [
    "## Graphs to represent lattice\n",
    "\n",
    "Probably the best way to describe a lattice is by using a weighted graph: each node is a point of the lattice and an edge exists between two neighbour nodes. We use the ``networkx`` python library to represent graph (this may not be the most efficient way)"
   ]
  },
  {
   "cell_type": "code",
   "execution_count": 50,
   "metadata": {},
   "outputs": [],
   "source": [
    "import networkx as nx\n",
    "\n",
    "def create_lattice_graph(d,s):\n",
    "    '''Creates a graph representing a d-dimensional lattice with size s'''\n",
    "    G = nx.Graph()\n",
    "    return G"
   ]
  },
  {
   "cell_type": "code",
   "execution_count": 51,
   "metadata": {},
   "outputs": [],
   "source": [
    "G = nx.Graph()\n",
    "G.add_node((0,0))\n",
    "G.add_node((1,0))"
   ]
  },
  {
   "cell_type": "code",
   "execution_count": 52,
   "metadata": {},
   "outputs": [
    {
     "data": {
      "text/plain": [
       "<networkx.classes.graph.Graph at 0xaa60bab38>"
      ]
     },
     "execution_count": 52,
     "metadata": {},
     "output_type": "execute_result"
    }
   ],
   "source": [
    "create_lattice_graph(d,s)"
   ]
  },
  {
   "cell_type": "code",
   "execution_count": null,
   "metadata": {},
   "outputs": [],
   "source": []
  }
 ],
 "metadata": {
  "kernelspec": {
   "display_name": "Python 3",
   "language": "python",
   "name": "python3"
  },
  "language_info": {
   "codemirror_mode": {
    "name": "ipython",
    "version": 3
   },
   "file_extension": ".py",
   "mimetype": "text/x-python",
   "name": "python",
   "nbconvert_exporter": "python",
   "pygments_lexer": "ipython3",
   "version": "3.7.3"
  }
 },
 "nbformat": 4,
 "nbformat_minor": 2
}
