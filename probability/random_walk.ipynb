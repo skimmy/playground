{
 "cells": [
  {
   "cell_type": "markdown",
   "metadata": {},
   "source": [
    "# Random Walk\n",
    "We study in this notebook the statistic of random walks starting, of course, from the standard one and then including more interesting situations. In this first part of the study we are also interesting in establishing relations between random walks and other problem in computation. \n",
    "\n",
    "Let's start with some basic math. A *random walk* is a random process, each step $i=1,2,\\ldots,n,\\ldots$ of the process produces a random variable $X_0,X_1,\\ldots$. At the beginning we will assume that $X_i$s are *independent* random variables in $\\{-1,+1\\}$ with\n",
    "$$ P[X_i=1]=P[X_i=-1] = 1/2 $$\n",
    "We define a second sequence of random variables $Z_0,Z_1,\\ldots$ where\n",
    "$$Z_i=\\sum_{j=0}^{i}{X_i}$$\n",
    "Of course\n",
    "$$ E[Z_n] = nE[X_i] = 0 $$\n",
    "and\n",
    "$$ Var[Z_n] = nVar[X_i] = \\frac{n}{4}$$\n",
    "\n",
    "Let's start by proving this results experimentally"
   ]
  },
  {
   "cell_type": "code",
   "execution_count": 1,
   "metadata": {},
   "outputs": [
    {
     "name": "stderr",
     "output_type": "stream",
     "text": [
      "/anaconda3/lib/python3.7/importlib/_bootstrap.py:219: RuntimeWarning: numpy.ufunc size changed, may indicate binary incompatibility. Expected 192 from C header, got 216 from PyObject\n",
      "  return f(*args, **kwds)\n",
      "/anaconda3/lib/python3.7/importlib/_bootstrap.py:219: RuntimeWarning: numpy.ufunc size changed, may indicate binary incompatibility. Expected 192 from C header, got 216 from PyObject\n",
      "  return f(*args, **kwds)\n",
      "/anaconda3/lib/python3.7/importlib/_bootstrap.py:219: RuntimeWarning: numpy.ufunc size changed, may indicate binary incompatibility. Expected 192 from C header, got 216 from PyObject\n",
      "  return f(*args, **kwds)\n",
      "/anaconda3/lib/python3.7/importlib/_bootstrap.py:219: RuntimeWarning: numpy.ufunc size changed, may indicate binary incompatibility. Expected 216, got 192\n",
      "  return f(*args, **kwds)\n",
      "/anaconda3/lib/python3.7/importlib/_bootstrap.py:219: RuntimeWarning: numpy.ufunc size changed, may indicate binary incompatibility. Expected 192 from C header, got 216 from PyObject\n",
      "  return f(*args, **kwds)\n"
     ]
    }
   ],
   "source": [
    "import numpy as np\n",
    "import pandas as pd\n",
    "import matplotlib.pyplot as plt\n",
    "import seaborn as sns\n",
    "sns.set()"
   ]
  },
  {
   "cell_type": "code",
   "execution_count": 7,
   "metadata": {},
   "outputs": [],
   "source": [
    "def random_step(p,n):\n",
    "    return np.random.choice([-1,1], n)"
   ]
  },
  {
   "cell_type": "code",
   "execution_count": 20,
   "metadata": {},
   "outputs": [
    {
     "name": "stdout",
     "output_type": "stream",
     "text": [
      "Mean     -0.021922\n",
      "Std.     10.004300446603754\n",
      "Mean ||  7.965218\n",
      "Std. ||  6.053247906081163\n"
     ]
    }
   ],
   "source": [
    "n_steps = 100\n",
    "n_samples = 1000000\n",
    "Zn = [random_step(0.5,n_steps).sum() for i in range(n_samples)]\n",
    "    \n",
    "    \n",
    "print(\"Mean    \", np.mean(Zn))\n",
    "print(\"Std.    \", np.std(Zn))\n",
    "print(\"Mean || \", np.mean(np.abs(Zn)))\n",
    "print(\"Std. || \", np.std(np.abs(Zn)))"
   ]
  }
 ],
 "metadata": {
  "kernelspec": {
   "display_name": "Python 3",
   "language": "python",
   "name": "python3"
  },
  "language_info": {
   "codemirror_mode": {
    "name": "ipython",
    "version": 3
   },
   "file_extension": ".py",
   "mimetype": "text/x-python",
   "name": "python",
   "nbconvert_exporter": "python",
   "pygments_lexer": "ipython3",
   "version": "3.7.3"
  }
 },
 "nbformat": 4,
 "nbformat_minor": 2
}
