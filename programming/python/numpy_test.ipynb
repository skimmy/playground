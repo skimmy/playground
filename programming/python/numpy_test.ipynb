{
 "cells": [
  {
   "cell_type": "markdown",
   "metadata": {},
   "source": [
    "# NumPy Tests\n",
    "\n",
    "This notebook is used to investigate features and properties of the ``numpy`` library. It loosly follows online references for the library, starting from easiest aspects building to more complex usage of the library."
   ]
  },
  {
   "cell_type": "code",
   "execution_count": 1,
   "metadata": {},
   "outputs": [],
   "source": [
    "import numpy as np"
   ]
  },
  {
   "cell_type": "markdown",
   "metadata": {},
   "source": [
    "## Internal representation of ``ndarray``"
   ]
  },
  {
   "cell_type": "markdown",
   "metadata": {},
   "source": [
    "A ``ndarray`` is internally stored as a contiguous chunk of memory of $M$ bytes, where $M$ depends on\n",
    "* the size $s$ of the items stored in the ``ndarray``\n",
    "* the number of items $n_i$ in each dimension $i=1,\\ldots,N$\n",
    "\n",
    "The following example creates an ``ndarray`` of $32$ items arranged in a three dimensional array of size $4\\times 2 \\times 4$\n",
    "\n",
    "It is important to notice that elements in ``ndarray`` are homogeneuous in the sense that there cannot be different type of elements in the same array (*e.g.*, ``int64`` and ``float64``)."
   ]
  },
  {
   "cell_type": "code",
   "execution_count": 2,
   "metadata": {},
   "outputs": [],
   "source": [
    "a = np.arange(32).reshape([4,2,4])"
   ]
  },
  {
   "cell_type": "code",
   "execution_count": 3,
   "metadata": {},
   "outputs": [
    {
     "name": "stdout",
     "output_type": "stream",
     "text": [
      "ndim     3\n",
      "Shape    (4, 2, 4)\n",
      "Size     32\n",
      "Stride   (64, 32, 8)\n",
      "\n",
      "Type     int64\n",
      "ItSize   8\n",
      "Flags\n",
      "   C_CONTIGUOUS : True\n",
      "  F_CONTIGUOUS : False\n",
      "  OWNDATA : False\n",
      "  WRITEABLE : True\n",
      "  ALIGNED : True\n",
      "  WRITEBACKIFCOPY : False\n",
      "  UPDATEIFCOPY : False\n"
     ]
    }
   ],
   "source": [
    "print(\"ndim    \", a.ndim)\n",
    "print(\"Shape   \", a.shape)\n",
    "print(\"Size    \", a.size)\n",
    "print(\"Stride  \", a.strides)\n",
    "print()\n",
    "print(\"Type    \", a.dtype)\n",
    "print(\"ItSize  \", a.itemsize)\n",
    "print(\"Flags\\n\" , a.flags)"
   ]
  },
  {
   "cell_type": "markdown",
   "metadata": {},
   "source": [
    "Notice that by default ``numpy`` assigned ``int64`` as type for the elements of the array."
   ]
  },
  {
   "cell_type": "markdown",
   "metadata": {},
   "source": [
    "### Strides\n",
    "One of the central concept in ``numpy`` is the concept od *stride*. A stride is an indication of how data is layed out on the raw array of bytes. The stride:\n",
    "* contains ne number for each of the $N$ dimension of the ``ndarray``,\n",
    "* each number indicates the distance (in bytes) between the initial byte of two consecutive elements of the corresponding dimension\n",
    "\n",
    "Let start with the \"trivial\" example of a single dimension array. Consider an ``ndarray`` with $n$ elements each of size $s$. Of course having just one dimension the distance between consecutive elements is the number of bytes occupied by a single element. For ``float32`` items this will be $4$"
   ]
  },
  {
   "cell_type": "code",
   "execution_count": 4,
   "metadata": {},
   "outputs": [
    {
     "name": "stdout",
     "output_type": "stream",
     "text": [
      "ndim       1\n",
      "Strides    (2,)\n"
     ]
    }
   ],
   "source": [
    "n = 50\n",
    "v = np.ndarray([n], dtype=np.float16)\n",
    "print(\"ndim      \", v.ndim)\n",
    "print(\"Strides   \", v.strides)"
   ]
  },
  {
   "cell_type": "markdown",
   "metadata": {},
   "source": [
    "Now let's add a dimension to extend the vector into am $1\\times n$ matrix (*i.e.*, a row vector)."
   ]
  },
  {
   "cell_type": "code",
   "execution_count": 5,
   "metadata": {},
   "outputs": [
    {
     "name": "stdout",
     "output_type": "stream",
     "text": [
      "ndim       2\n",
      "Strides    (100, 2)\n"
     ]
    }
   ],
   "source": [
    "w = v.reshape([1,n])\n",
    "print(\"ndim      \", w.ndim)\n",
    "print(\"Strides   \", w.strides)"
   ]
  },
  {
   "cell_type": "markdown",
   "metadata": {},
   "source": [
    "Even though the added dimension is $N_0 = 1$, the information about strides is given for both dimensions, in particular the stride corresponding to dimension $N_0$ is $s_0 = n_1*s_1$, where $n_1$ is the number of elements in dimension $n_1$ ($50$ in our example) and $s_1$ is the size of elements in that dimension ($s_1 = 2$ for ``float16`` in our example). However in most cases the ``ndarray`` has homogeneous elements in all dimensions meaning that $s_i=s$ for any $i$ (**Question** is it possible to have ``ndarray`` with heterogeneous items in different dimensions?)\n",
    "\n",
    "An interesting application of strides is to obtain the transpose of a metrix $M^T$. When a matrix is transposed, the rows (dimension $0$) the columns (dimension $1$) and vice-versa. In terms of stride this simply inverts the stride between rows and columns."
   ]
  },
  {
   "cell_type": "code",
   "execution_count": 33,
   "metadata": {},
   "outputs": [
    {
     "name": "stdout",
     "output_type": "stream",
     "text": [
      "Matrix M\n",
      "shape     (5, 2)\n",
      "strides   (16, 8)\n",
      "Data      <memory at 0x115036990>\n",
      "\n",
      "Matrix M^T\n",
      "shape     (2, 5)\n",
      "strides   (8, 16)\n",
      "Data      <memory at 0x115036990>\n"
     ]
    }
   ],
   "source": [
    "M = np.arange(10).reshape([5,2])\n",
    "print(\"Matrix M\")\n",
    "print(\"shape    \", M.shape)\n",
    "print(\"strides  \", M.strides)\n",
    "print(\"Data     \", M.data)\n",
    "print()\n",
    "print(\"Matrix M^T\")\n",
    "print(\"shape    \", M.T.shape)\n",
    "print(\"strides  \", M.T.strides)\n",
    "print(\"Data     \", M.T.data)"
   ]
  },
  {
   "cell_type": "markdown",
   "metadata": {},
   "source": [
    "## Constructing ``ndarray``\n",
    "\n",
    "To construct ``ndarray`` the library offers several possibilities:\n",
    "* Use *constructors* of the class ``ndarray``\n",
    "* Use convenience factory functions (like ``zeros``, ``ones``, ``asarray``, ...)\n",
    "Factory functions are more convenient because they also initialize content of the array. This is not guaranteed if one uses the contructor"
   ]
  },
  {
   "cell_type": "code",
   "execution_count": 14,
   "metadata": {},
   "outputs": [
    {
     "name": "stdout",
     "output_type": "stream",
     "text": [
      "ndarray array with constructor\n",
      "[[0.000e+00 0.000e+00 5.960e-08]\n",
      " [0.000e+00 4.495e-01 4.504e-01]]\n",
      "\n",
      "ndarray with factory function zeros\n",
      "[[0. 0. 0.]\n",
      " [0. 0. 0.]]\n"
     ]
    }
   ],
   "source": [
    "a = np.ndarray(shape=[2,3], dtype=np.float16)\n",
    "print(\"ndarray array with constructor\")\n",
    "print(a)\n",
    "print()\n",
    "b = np.zeros(shape=[2,3], dtype=np.float16)\n",
    "print(\"ndarray with factory function zeros\")\n",
    "print(b)"
   ]
  },
  {
   "cell_type": "markdown",
   "metadata": {},
   "source": [
    "### Factory functions\n",
    "Let see a list of conveniente (and commonly used) of factory functions. We have already seen ``zeros`` function that creates an ``ndarray`` with all elements initialized to zero. \n",
    "\n",
    "Similarly there is a ``ones`` function and the closely related ``ones_like`` that returns an ``ndarray`` filled with ones and having the same shape as the passed array"
   ]
  },
  {
   "cell_type": "code",
   "execution_count": 18,
   "metadata": {},
   "outputs": [
    {
     "name": "stdout",
     "output_type": "stream",
     "text": [
      "ones\n",
      "[[1. 1.]\n",
      " [1. 1.]\n",
      " [1. 1.]\n",
      " [1. 1.]]\n",
      "ones_like\n",
      "[[1. 1. 1. 1.]\n",
      " [1. 1. 1. 1.]]\n"
     ]
    }
   ],
   "source": [
    "shape = [4,2]\n",
    "a_ones = np.ones(shape=shape)\n",
    "print(\"ones\")\n",
    "print(a_ones)\n",
    "\n",
    "print(\"ones_like\")\n",
    "print(np.ones_like(a_ones.T))"
   ]
  },
  {
   "cell_type": "code",
   "execution_count": 21,
   "metadata": {},
   "outputs": [
    {
     "name": "stdout",
     "output_type": "stream",
     "text": [
      "[[4 4]\n",
      " [4 4]\n",
      " [4 4]\n",
      " [4 4]]\n"
     ]
    }
   ],
   "source": [
    "print(np.full(shape=shape, fill_value=4))"
   ]
  },
  {
   "cell_type": "markdown",
   "metadata": {},
   "source": [
    "The functions available (including the ``*_like`` version) are\n",
    "* ``zeros`` array of all $0$\n",
    "* ``ones`` array of all $1$\n",
    "* ``empty`` unitialized array\n",
    "* ``full`` array filled with given value"
   ]
  },
  {
   "cell_type": "code",
   "execution_count": null,
   "metadata": {},
   "outputs": [],
   "source": []
  }
 ],
 "metadata": {
  "kernelspec": {
   "display_name": "Python 3",
   "language": "python",
   "name": "python3"
  },
  "language_info": {
   "codemirror_mode": {
    "name": "ipython",
    "version": 3
   },
   "file_extension": ".py",
   "mimetype": "text/x-python",
   "name": "python",
   "nbconvert_exporter": "python",
   "pygments_lexer": "ipython3",
   "version": "3.7.3"
  }
 },
 "nbformat": 4,
 "nbformat_minor": 2
}
