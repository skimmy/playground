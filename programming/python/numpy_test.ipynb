{
 "cells": [
  {
   "cell_type": "markdown",
   "metadata": {},
   "source": [
    "# NumPy Tests\n",
    "\n",
    "This notebook is used to investigate features and properties of the ``numpy`` library. It loosly follows online references for the library, starting from easiest aspects building to more complex usage of the library."
   ]
  },
  {
   "cell_type": "code",
   "execution_count": 1,
   "metadata": {},
   "outputs": [],
   "source": [
    "import numpy as np"
   ]
  },
  {
   "cell_type": "markdown",
   "metadata": {},
   "source": [
    "## Internal representation of ``ndarray``"
   ]
  },
  {
   "cell_type": "markdown",
   "metadata": {},
   "source": [
    "A ``ndarray`` is internally stored as a contiguous chunk of memory of $M$ bytes, where $M$ depends on\n",
    "* the size $s$ of the items stored in the ``ndarray``\n",
    "* the number of items $n_i$ in each dimension $i=1,\\ldots,N$\n",
    "\n",
    "The following example creates an ``ndarray`` of $32$ items arranged in a three dimensional array of size $4\\times 2 \\times 4$\n",
    "\n",
    "It is important to notice that elements in ``ndarray`` are homogeneuous in the sense that there cannot be different type of elements in the same array (*e.g.*, ``int64`` and ``float64``)."
   ]
  },
  {
   "cell_type": "code",
   "execution_count": 9,
   "metadata": {},
   "outputs": [],
   "source": [
    "a = np.arange(32).reshape([4,2,4])"
   ]
  },
  {
   "cell_type": "code",
   "execution_count": 20,
   "metadata": {},
   "outputs": [
    {
     "name": "stdout",
     "output_type": "stream",
     "text": [
      "ndim     3\n",
      "Shape    (4, 2, 4)\n",
      "Size     32\n",
      "Stride   (64, 32, 8)\n",
      "\n",
      "Type     int64\n",
      "ItSize   8\n",
      "Flags\n",
      "   C_CONTIGUOUS : True\n",
      "  F_CONTIGUOUS : False\n",
      "  OWNDATA : False\n",
      "  WRITEABLE : True\n",
      "  ALIGNED : True\n",
      "  WRITEBACKIFCOPY : False\n",
      "  UPDATEIFCOPY : False\n"
     ]
    }
   ],
   "source": [
    "print(\"ndim    \", a.ndim)\n",
    "print(\"Shape   \", a.shape)\n",
    "print(\"Size    \", a.size)\n",
    "print(\"Stride  \", a.strides)\n",
    "print()\n",
    "print(\"Type    \", a.dtype)\n",
    "print(\"ItSize  \", a.itemsize)\n",
    "print(\"Flags\\n\" , a.flags)"
   ]
  },
  {
   "cell_type": "markdown",
   "metadata": {},
   "source": [
    "Notice that by default ``numpy`` assigned ``int64`` as type for the elements of the array."
   ]
  },
  {
   "cell_type": "code",
   "execution_count": null,
   "metadata": {},
   "outputs": [],
   "source": []
  }
 ],
 "metadata": {
  "kernelspec": {
   "display_name": "Python 3",
   "language": "python",
   "name": "python3"
  },
  "language_info": {
   "codemirror_mode": {
    "name": "ipython",
    "version": 3
   },
   "file_extension": ".py",
   "mimetype": "text/x-python",
   "name": "python",
   "nbconvert_exporter": "python",
   "pygments_lexer": "ipython3",
   "version": "3.7.3"
  }
 },
 "nbformat": 4,
 "nbformat_minor": 2
}
