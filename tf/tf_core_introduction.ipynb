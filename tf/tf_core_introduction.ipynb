{
 "cells": [
  {
   "cell_type": "markdown",
   "metadata": {},
   "source": [
    "# Introduction to TensorFlow Core APIs\n",
    "This a notebook following the guide https://www.tensorflow.org/guide/low_level_intro\n",
    "\n",
    "Recall that\n",
    "* computations in TensorFlows happen by executing a ``tf.Graph``,\n",
    "* the graph can be defined but not necessarily run,\n",
    "* run is performed via a ``tf.Session`` object."
   ]
  },
  {
   "cell_type": "code",
   "execution_count": 1,
   "metadata": {},
   "outputs": [],
   "source": [
    "from __future__ import absolute_import\n",
    "from __future__ import division\n",
    "from __future__ import print_function\n",
    "\n",
    "import numpy as np\n",
    "import tensorflow as tf"
   ]
  },
  {
   "cell_type": "markdown",
   "metadata": {},
   "source": [
    "**Definition** (*Tensor*) a *tensor* (more precisely *tensor value*) in mathematical sense is a $N$ dimensional vector into some field. For example, in the field of real numbers $\\mathbb{R}$, $\\mathbf{x} = [0,-1,\\pi, 0.99]$ is a tensor. Notice that vectors and matrices are special case of tensor with $1$ and $2$ dimensions, respectively. The number of dimension is called the *rank* of the tensor and the list of the number of elements for in each dimension is called the *shape*. In the previous example the rank is $1$ (*i.e.*, vector) and the shape is $[4]$.\n",
    "\n",
    "Notice that the concept of tensor is very well represented by ``numpy`` ``ndarray`` objects, which is, in fact, what TensorFlow uses under the hood."
   ]
  },
  {
   "cell_type": "code",
   "execution_count": 2,
   "metadata": {},
   "outputs": [],
   "source": [
    "t = np.asarray([0,-1, np.pi, 0.99])"
   ]
  },
  {
   "cell_type": "markdown",
   "metadata": {},
   "source": [
    "## Building the graph\n",
    "\n",
    "As stated above the first part in a TensorFlow computation is the construction of a graph which is an object ``tf.Graph``. In TensorFlow nodes and edges of the graph are object of type ``tf.Operation`` and ``tf.Tensor``, respectively. Notice that ``tf.Tensor`` is not a tensor value rather a \"placeholder\" for what can be substituted with a tensor value.\n",
    "\n",
    "It is interesting to notice how the documentation defines the ``tf.Tensor`` object as representing the \"ouput of an ``Operation``\". This stresses the fact that ``tf.Tensor`` objects are to be interpreted as ouputs and therefore they should always be constructed as result from some operation (indeed an edge of a graph must always have endpoints, constructing a ``Tensor`` from an ``Operation`` - *i.e.*, a node - guarantees that the starting end is always defined)."
   ]
  },
  {
   "cell_type": "code",
   "execution_count": 3,
   "metadata": {},
   "outputs": [
    {
     "name": "stdout",
     "output_type": "stream",
     "text": [
      "[[1. 3.]\n",
      " [3. 7.]]\n"
     ]
    }
   ],
   "source": [
    "c = tf.constant([[1.0, 2.0], [3.0, 4.0]])\n",
    "d = tf.constant([[1.0, 1.0], [0.0, 1.0]])\n",
    "e = tf.matmul(c, d)\n",
    "sess = tf.compat.v1.Session()\n",
    "result = sess.run(e)\n",
    "print(result)"
   ]
  },
  {
   "cell_type": "markdown",
   "metadata": {},
   "source": [
    "The result is what is to be expected, however to obtain the actual values of the matrix ``e=c*d`` we had to run the graph in a session."
   ]
  },
  {
   "cell_type": "code",
   "execution_count": 4,
   "metadata": {},
   "outputs": [
    {
     "name": "stdout",
     "output_type": "stream",
     "text": [
      "Tensor(\"Const_2:0\", shape=(), dtype=float32)\n",
      "Tensor(\"Const_3:0\", shape=(), dtype=float32)\n",
      "Tensor(\"add:0\", shape=(), dtype=float32)\n"
     ]
    }
   ],
   "source": [
    "a = tf.constant(3.0, dtype=tf.float32)\n",
    "b = tf.constant(4.0)\n",
    "total = a + b\n",
    "print(a)\n",
    "print(b)\n",
    "print(total)"
   ]
  },
  {
   "cell_type": "markdown",
   "metadata": {},
   "source": [
    "Again ``Tensor`` do not have actal values, to produce result we need to run the computation (run the graph)"
   ]
  },
  {
   "cell_type": "code",
   "execution_count": 5,
   "metadata": {},
   "outputs": [
    {
     "name": "stdout",
     "output_type": "stream",
     "text": [
      "7.0\n"
     ]
    }
   ],
   "source": [
    "with tf.Session() as sess:\n",
    "    result = sess.run(total)\n",
    "    print(result)"
   ]
  },
  {
   "cell_type": "code",
   "execution_count": 6,
   "metadata": {},
   "outputs": [
    {
     "name": "stdout",
     "output_type": "stream",
     "text": [
      "{'Tot.': 7.0, 'Delta': 1.0}\n"
     ]
    }
   ],
   "source": [
    "delta = tf.abs(a - b)\n",
    "with tf.Session() as sess:\n",
    "    print(sess.run({\"Tot.\" : total, \"Delta\" : delta}))"
   ]
  },
  {
   "cell_type": "markdown",
   "metadata": {},
   "source": [
    "Because ``Tensor`` do not contain values, we can initialize them to be just \"placeholder\" for values that will be obtained during computation itself"
   ]
  },
  {
   "cell_type": "code",
   "execution_count": 7,
   "metadata": {},
   "outputs": [],
   "source": [
    "x = tf.placeholder(tf.float32)\n",
    "y = tf.placeholder(tf.float32)\n",
    "z = x + y"
   ]
  },
  {
   "cell_type": "markdown",
   "metadata": {},
   "source": [
    "When an ``Session`` is executed the placeholders can be filled passing a the ``feed_dict`` dictionary to the ``run`` method of the ``Session``"
   ]
  },
  {
   "cell_type": "code",
   "execution_count": 8,
   "metadata": {},
   "outputs": [
    {
     "name": "stdout",
     "output_type": "stream",
     "text": [
      "-2.99\n",
      "[5. 8.]\n"
     ]
    }
   ],
   "source": [
    "with tf.Session() as sess:\n",
    "    print(sess.run(z, feed_dict={x : \"-3\", y : \"0.01\"}))\n",
    "    print(sess.run(z, feed_dict={x : [1,3], y : [4,5]}))"
   ]
  },
  {
   "cell_type": "markdown",
   "metadata": {},
   "source": [
    "There are more preferable ways to feed data into a graph during runs, in particular the ``tf.data.Dataset`` object serves this purpse, but to use it a proper iterator is needed"
   ]
  },
  {
   "cell_type": "code",
   "execution_count": 9,
   "metadata": {},
   "outputs": [],
   "source": [
    "data = [\n",
    "    [0, 1],\n",
    "    [2, 3],\n",
    "    [4, 5],\n",
    "    [6, 7]\n",
    "]"
   ]
  },
  {
   "cell_type": "code",
   "execution_count": 10,
   "metadata": {},
   "outputs": [
    {
     "name": "stderr",
     "output_type": "stream",
     "text": [
      "WARNING: Logging before flag parsing goes to stderr.\n",
      "W0703 16:21:08.468636 140200443148096 deprecation.py:323] From <ipython-input-10-3d2b422be644>:2: DatasetV1.make_one_shot_iterator (from tensorflow.python.data.ops.dataset_ops) is deprecated and will be removed in a future version.\n",
      "Instructions for updating:\n",
      "Use `for ... in dataset:` to iterate over a dataset. If using `tf.estimator`, return the `Dataset` object directly from your input function. As a last resort, you can use `tf.compat.v1.data.make_one_shot_iterator(dataset)`.\n"
     ]
    }
   ],
   "source": [
    "slices = tf.data.Dataset.from_tensor_slices(data)\n",
    "next_item = slices.make_one_shot_iterator().get_next()"
   ]
  },
  {
   "cell_type": "markdown",
   "metadata": {},
   "source": [
    "Even following step-by-step the official guide, you get a deprecated warning (sic!)"
   ]
  },
  {
   "cell_type": "code",
   "execution_count": 11,
   "metadata": {},
   "outputs": [
    {
     "name": "stdout",
     "output_type": "stream",
     "text": [
      "[0 1]\n",
      "[2 3]\n",
      "[4 5]\n",
      "[6 7]\n"
     ]
    }
   ],
   "source": [
    "with tf.Session() as sess:\n",
    "    while True:\n",
    "        try:\n",
    "            print(sess.run(next_item))\n",
    "        except tf.errors.OutOfRangeError:\n",
    "            break"
   ]
  },
  {
   "cell_type": "markdown",
   "metadata": {},
   "source": [
    "## Layers\n",
    "\n",
    "Constructing graphs defining each single node may be tedious, moreover there could be the opportunity to re-use entire subgraph in different places. Besides higher level APIs (*e.g.* ``tf.keras``), even at low level TensorFlow uses the notion of *layer*. Many ready-to-use layers are available in TensorFlow, most notably the ``td.layers.Dense`` which constitutes a basic building block for MLP."
   ]
  },
  {
   "cell_type": "code",
   "execution_count": 12,
   "metadata": {},
   "outputs": [
    {
     "name": "stderr",
     "output_type": "stream",
     "text": [
      "W0703 16:21:08.626101 140200443148096 deprecation.py:506] From /home/skimmy/anaconda3/lib/python3.7/site-packages/tensorflow/python/ops/init_ops.py:1251: calling VarianceScaling.__init__ (from tensorflow.python.ops.init_ops) with dtype is deprecated and will be removed in a future version.\n",
      "Instructions for updating:\n",
      "Call initializer instance with the dtype argument instead of passing it to the constructor\n"
     ]
    }
   ],
   "source": [
    "x = tf.placeholder(tf.float32, shape=[None, 3])\n",
    "linear_model = tf.layers.Dense(units=1)\n",
    "y = linear_model(x)"
   ]
  },
  {
   "cell_type": "markdown",
   "metadata": {},
   "source": [
    "The ``Dense`` object has many interesting property"
   ]
  },
  {
   "cell_type": "code",
   "execution_count": 13,
   "metadata": {},
   "outputs": [
    {
     "name": "stdout",
     "output_type": "stream",
     "text": [
      "{'units': 1, 'activation': <function linear at 0x7f82b336c8c8>, 'trainable': True, 'use_bias': True, 'kernel_constraint': None}\n"
     ]
    }
   ],
   "source": [
    "print({\n",
    "    \"units\"      : linear_model.units,\n",
    "    \"activation\" : linear_model.activation,\n",
    "    \"trainable\"  : linear_model.trainable,\n",
    "    \"use_bias\"   : linear_model.use_bias,\n",
    "    \"kernel_constraint\" : linear_model.kernel_constraint,\n",
    "})"
   ]
  },
  {
   "cell_type": "markdown",
   "metadata": {},
   "source": [
    "layers need some initialization, and we can use a default initializer"
   ]
  },
  {
   "cell_type": "code",
   "execution_count": 14,
   "metadata": {},
   "outputs": [
    {
     "name": "stdout",
     "output_type": "stream",
     "text": [
      "[[-2.7126412]\n",
      " [-5.5331855]]\n"
     ]
    }
   ],
   "source": [
    "init = tf.global_variables_initializer()\n",
    "with tf.Session() as sess:\n",
    "    sess.run(init)\n",
    "    print(sess.run(y, {x : [[1,2,3],[4,5,6]]}))"
   ]
  },
  {
   "cell_type": "markdown",
   "metadata": {},
   "source": [
    "Finally let's try to train a linear model\n",
    "\n",
    "Define the data"
   ]
  },
  {
   "cell_type": "code",
   "execution_count": 15,
   "metadata": {},
   "outputs": [],
   "source": [
    "x = tf.constant([[1], [2], [3], [4]], dtype=tf.float32)\n",
    "y_true = tf.constant([[0], [-1], [-2], [-3]], dtype=tf.float32)"
   ]
  },
  {
   "cell_type": "markdown",
   "metadata": {},
   "source": [
    "Define and initialize the model"
   ]
  },
  {
   "cell_type": "code",
   "execution_count": 16,
   "metadata": {},
   "outputs": [],
   "source": [
    "linear_model = tf.layers.Dense(units=1)\n",
    "y_pred = linear_model(x)\n",
    "sess = tf.Session()\n",
    "init = tf.global_variables_initializer()\n",
    "sess.run(init)"
   ]
  },
  {
   "cell_type": "markdown",
   "metadata": {},
   "source": [
    "make some untrained predictions"
   ]
  },
  {
   "cell_type": "code",
   "execution_count": 17,
   "metadata": {},
   "outputs": [
    {
     "name": "stdout",
     "output_type": "stream",
     "text": [
      "[[-0.3049283]\n",
      " [-0.6098566]\n",
      " [-0.9147849]\n",
      " [-1.2197132]]\n"
     ]
    }
   ],
   "source": [
    "print(sess.run(y_pred))"
   ]
  },
  {
   "cell_type": "code",
   "execution_count": 18,
   "metadata": {},
   "outputs": [
    {
     "name": "stderr",
     "output_type": "stream",
     "text": [
      "W0703 16:21:09.489116 140200443148096 deprecation.py:323] From /home/skimmy/anaconda3/lib/python3.7/site-packages/tensorflow/python/ops/losses/losses_impl.py:121: add_dispatch_support.<locals>.wrapper (from tensorflow.python.ops.array_ops) is deprecated and will be removed in a future version.\n",
      "Instructions for updating:\n",
      "Use tf.where in 2.0, which has the same broadcast rule as np.where\n"
     ]
    },
    {
     "name": "stdout",
     "output_type": "stream",
     "text": [
      "1.1480765\n"
     ]
    }
   ],
   "source": [
    "# loss function\n",
    "loss = tf.losses.mean_squared_error(labels=y_true, predictions=y_pred)\n",
    "print(sess.run(loss))"
   ]
  },
  {
   "cell_type": "code",
   "execution_count": 19,
   "metadata": {},
   "outputs": [],
   "source": [
    "# Optimization\n",
    "optimizer = tf.train.GradientDescentOptimizer(0.01)\n",
    "train = optimizer.minimize(loss)"
   ]
  },
  {
   "cell_type": "code",
   "execution_count": 20,
   "metadata": {},
   "outputs": [
    {
     "name": "stdout",
     "output_type": "stream",
     "text": [
      "1.1480765\n",
      "0.8581888\n",
      "0.6566738\n",
      "0.51648104\n",
      "0.4188404\n",
      "0.3507281\n",
      "0.3031072\n",
      "0.26970682\n",
      "0.24617584\n",
      "0.22949536\n",
      "0.2175703\n",
      "0.20894697\n",
      "0.20261683\n",
      "0.19787979\n",
      "0.19425038\n",
      "0.1913916\n",
      "0.18906945\n",
      "0.18712178\n",
      "0.18543594\n",
      "0.18393376\n",
      "0.18256103\n",
      "0.18128008\n",
      "0.18006474\n",
      "0.178897\n",
      "0.17776409\n",
      "0.17665736\n",
      "0.17557067\n",
      "0.17449978\n",
      "0.17344186\n",
      "0.1723947\n",
      "0.17135689\n",
      "0.17032748\n",
      "0.1693057\n",
      "0.16829109\n",
      "0.16728327\n",
      "0.16628197\n",
      "0.16528705\n",
      "0.16429824\n",
      "0.16331553\n",
      "0.16233885\n",
      "0.16136806\n",
      "0.16040316\n",
      "0.15944403\n",
      "0.15849066\n",
      "0.15754306\n",
      "0.15660107\n",
      "0.1556648\n",
      "0.15473408\n",
      "0.15380895\n",
      "0.15288934\n",
      "0.15197524\n",
      "0.15106657\n",
      "0.15016338\n",
      "0.14926562\n",
      "0.14837313\n",
      "0.14748603\n",
      "0.14660423\n",
      "0.14572772\n",
      "0.14485642\n",
      "0.14399034\n",
      "0.1431295\n",
      "0.14227371\n",
      "0.1414231\n",
      "0.14057757\n",
      "0.13973707\n",
      "0.13890159\n",
      "0.13807113\n",
      "0.13724563\n",
      "0.13642506\n",
      "0.1356094\n",
      "0.13479862\n",
      "0.13399266\n",
      "0.13319157\n",
      "0.13239518\n",
      "0.13160363\n",
      "0.13081682\n",
      "0.13003466\n",
      "0.12925719\n",
      "0.12848443\n",
      "0.12771624\n",
      "0.12695265\n",
      "0.12619358\n",
      "0.12543909\n",
      "0.124689125\n",
      "0.123943605\n",
      "0.12320258\n",
      "0.12246597\n",
      "0.12173375\n",
      "0.12100595\n",
      "0.12028248\n",
      "0.11956333\n",
      "0.11884846\n",
      "0.11813787\n",
      "0.11743158\n",
      "0.11672945\n",
      "0.11603157\n",
      "0.115337804\n",
      "0.11464824\n",
      "0.113962755\n",
      "0.11328139\n"
     ]
    }
   ],
   "source": [
    "for i in range(100):\n",
    "    _, loss_value = sess.run((train,loss))\n",
    "    print(loss_value)"
   ]
  },
  {
   "cell_type": "code",
   "execution_count": 21,
   "metadata": {},
   "outputs": [
    {
     "name": "stdout",
     "output_type": "stream",
     "text": [
      "[[-0.54183435]\n",
      " [-1.2625558 ]\n",
      " [-1.9832773 ]\n",
      " [-2.7039988 ]]\n"
     ]
    }
   ],
   "source": [
    "# prediction\n",
    "print(sess.run(y_pred))"
   ]
  },
  {
   "cell_type": "markdown",
   "metadata": {},
   "source": [
    "At the end it is always a good idea to close the session (in fact the best way is to use ``with``)"
   ]
  },
  {
   "cell_type": "code",
   "execution_count": 22,
   "metadata": {},
   "outputs": [],
   "source": [
    "sess.close()"
   ]
  },
  {
   "cell_type": "code",
   "execution_count": null,
   "metadata": {},
   "outputs": [],
   "source": []
  }
 ],
 "metadata": {
  "kernelspec": {
   "display_name": "Python 3",
   "language": "python",
   "name": "python3"
  },
  "language_info": {
   "codemirror_mode": {
    "name": "ipython",
    "version": 3
   },
   "file_extension": ".py",
   "mimetype": "text/x-python",
   "name": "python",
   "nbconvert_exporter": "python",
   "pygments_lexer": "ipython3",
   "version": "3.7.3"
  }
 },
 "nbformat": 4,
 "nbformat_minor": 2
}
